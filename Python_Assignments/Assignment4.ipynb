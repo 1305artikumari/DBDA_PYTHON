{
 "cells": [
  {
   "cell_type": "markdown",
   "id": "c77af962-63c8-4122-8635-764797c52c02",
   "metadata": {
    "jp-MarkdownHeadingCollapsed": true,
    "tags": []
   },
   "source": [
    "Day 4 Assignment4 question 1) ## Create a vehicle class with attributes number of wheels, \n",
    "number of airbags, max speed etc. Create a constructor \n",
    "and method that displays vehicles' information"
   ]
  },
  {
   "cell_type": "code",
   "execution_count": 51,
   "id": "2f7ffbc7-1305-4ca1-a996-222de09d5486",
   "metadata": {
    "tags": []
   },
   "outputs": [
    {
     "name": "stdout",
     "output_type": "stream",
     "text": [
      "No of Wheels : 5\n",
      "No of Airbags : 2\n",
      "Maximum Speed : 22\n"
     ]
    }
   ],
   "source": [
    "class Vehicle:\n",
    "    def __init__(self,noOfWheel,noOfAirbags,maxSpeed):\n",
    "        self.noOfWheel=noOfWheel\n",
    "        self.noOfAirbags=noOfAirbags\n",
    "        self.maxSpeed=maxSpeed\n",
    "    \n",
    "    def displayVehicle(self):\n",
    "        print(self.noOfWheel,self.noOfAirbags,self.maxSpeed)\n",
    "\n",
    "v1=Vehicle(5,2,22)\n",
    "\n",
    "v1.displayVehicle()\n",
    "            \n"
   ]
  },
  {
   "cell_type": "markdown",
   "id": "64a36155-9d63-4f0c-b069-accf414bedf1",
   "metadata": {},
   "source": [
    "Question 2 ## Create a child class Bus from Vehicle vlass that inherit all \n",
    "the of the variables and methods from vehicle class. The \n",
    "bus class has its own attributes: number of doors, fare per \n",
    "kilometer, number of seats along with inherited attributes.\n",
    "Write a method to calculate bus fare by accepting distance \n",
    "in kilometer as parameter."
   ]
  },
  {
   "cell_type": "code",
   "execution_count": 139,
   "id": "351267e6-8d24-4c74-bf4f-be56beb3bb42",
   "metadata": {
    "tags": []
   },
   "outputs": [
    {
     "name": "stdout",
     "output_type": "stream",
     "text": [
      "No of Wheels : 4\n",
      "No of Airbags : 23\n",
      "Maximum Speed : 22\n",
      "10\n"
     ]
    }
   ],
   "source": [
    "class Vehicle:\n",
    "    def __init__(self,noOfWheel,noOfAirbags,maxSpeed):\n",
    "        self.noOfWheel=noOfWheel\n",
    "        self.noOfAirbags=noOfAirbags\n",
    "        self.maxSpeed=maxSpeed\n",
    "    \n",
    "    def displayVehicle(self):\n",
    "        print(\"No of Wheels :\" ,self.noOfWheel)\n",
    "        print(\"No of Airbags :\" ,self.noOfAirbags)\n",
    "        print(\"Maximum Speed :\" ,self.maxSpeed)\n",
    "class Bus(Vehicle):\n",
    "    def __init__(self,doors,fare,seats,noOfWheel,noOfAirbags,maxSpeed):\n",
    "        super().__init__(noOfWheel,noOfAirbags,maxSpeed)\n",
    "        self.doors=doors\n",
    "        self.fare=fare\n",
    "        self.seats=seats\n",
    "    # def displayBus(self):\n",
    "    #         print(self.doors,self.fare,self.seats) \n",
    "    def calculate_fare(self,distance_km):\n",
    "        return distance_km *self.fare\n",
    "            \n",
    "v1=Bus(5,2,22,4,23,22)\n",
    "v1.displayVehicle()\n",
    "# v1.displayBus()\n",
    "fare=v1.calculate_fare(5)\n",
    "print(fare)"
   ]
  },
  {
   "cell_type": "code",
   "execution_count": null,
   "id": "a73b20ee-e5de-4c43-8b1a-a53d8597220e",
   "metadata": {},
   "outputs": [],
   "source": []
  }
 ],
 "metadata": {
  "kernelspec": {
   "display_name": "Python 3 (ipykernel)",
   "language": "python",
   "name": "python3"
  },
  "language_info": {
   "codemirror_mode": {
    "name": "ipython",
    "version": 3
   },
   "file_extension": ".py",
   "mimetype": "text/x-python",
   "name": "python",
   "nbconvert_exporter": "python",
   "pygments_lexer": "ipython3",
   "version": "3.11.7"
  }
 },
 "nbformat": 4,
 "nbformat_minor": 5
}
