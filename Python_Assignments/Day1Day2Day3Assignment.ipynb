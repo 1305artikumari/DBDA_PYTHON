{
 "cells": [
  {
   "cell_type": "code",
   "execution_count": null,
   "id": "047a714b-e5b6-4104-8aa8-288513a4fa7b",
   "metadata": {},
   "outputs": [],
   "source": [
    "# Assignment (Day1, Day2, Day3)"
   ]
  },
  {
   "cell_type": "markdown",
   "id": "ed9594fe-8e32-45bc-ad3e-db94c6c1c5f9",
   "metadata": {},
   "source": [
    "Assignment Question 1. Using for loop, write and run a Python program for this algorithm.\n",
    "Here is an algorithm to print out n! (n factorial) from 0! to 10! :\n",
    "1. Set f = 1 \n",
    "2. Set n = 0\n",
    "3. Repeat the following 10 times: \n",
    "a. Output n, \"! = \", f\n",
    "b. Add 1 to n \n",
    "c. Multiply f by n"
   ]
  },
  {
   "cell_type": "code",
   "execution_count": 2,
   "id": "a1502d1f-22cd-448a-a519-cad51fb42458",
   "metadata": {
    "tags": []
   },
   "outputs": [
    {
     "name": "stdout",
     "output_type": "stream",
     "text": [
      "1! = 1\n",
      "2! = 2\n",
      "3! = 6\n",
      "4! = 24\n",
      "5! = 120\n",
      "6! = 720\n",
      "7! = 5040\n",
      "8! = 40320\n",
      "9! = 362880\n",
      "10! = 3628800\n"
     ]
    }
   ],
   "source": [
    "n=10\n",
    "for i in range(1,n+1):\n",
    "    f=1\n",
    "    for j in range(1,i+1):\n",
    "        f=f*j\n",
    "    print(\"{}! = {}\".format(j,f))\n"
   ]
  },
  {
   "cell_type": "markdown",
   "id": "0dfc6a78-2ba7-446f-a50c-20a123009258",
   "metadata": {},
   "source": [
    "Assignment Question 2 : Write a program to display three line message ."
   ]
  },
  {
   "cell_type": "code",
   "execution_count": 2,
   "id": "58aa8124-0412-4b45-9a1e-cf1b5ef8767f",
   "metadata": {},
   "outputs": [
    {
     "name": "stdout",
     "output_type": "stream",
     "text": [
      "Hi\n",
      "Hello\n",
      "Welcome\n"
     ]
    }
   ],
   "source": [
    "message=\"\"\"Hi\n",
    "Hello\n",
    "Welcome\"\"\"\n",
    "print(message)"
   ]
  },
  {
   "cell_type": "markdown",
   "id": "741c47ba",
   "metadata": {},
   "source": [
    "Question 2 : Write a program to demonstrate datatype casting in python."
   ]
  },
  {
   "cell_type": "code",
   "execution_count": 15,
   "id": "6133aa1d-f51d-45bf-91ff-fe93d223a4d7",
   "metadata": {},
   "outputs": [
    {
     "name": "stdout",
     "output_type": "stream",
     "text": [
      "10\n",
      "20.0\n",
      "44\n"
     ]
    }
   ],
   "source": [
    "x=int(10.5)\n",
    "print(x)\n",
    "y=float(20)\n",
    "print(y)\n",
    "z=str(44)\n",
    "print(z)"
   ]
  },
  {
   "cell_type": "markdown",
   "id": "6855cabd",
   "metadata": {},
   "source": [
    "Assignment Question 3 . Write a program that take Student_Number, Name, \n",
    "Branch and University from user. Print the read details."
   ]
  },
  {
   "cell_type": "code",
   "execution_count": 6,
   "id": "c22144f8-b00c-4ab4-8ec4-4f4d8aeab300",
   "metadata": {
    "tags": []
   },
   "outputs": [
    {
     "name": "stdout",
     "output_type": "stream",
     "text": [
      "Please enter Student number :  11\n",
      "Please enter the Name :  Arti\n",
      "Please enter the Branch :  DBDA\n",
      "Please enter the University :  CDAC\n"
     ]
    },
    {
     "name": "stdout",
     "output_type": "stream",
     "text": [
      "Entered Details :\n",
      "\n",
      "\tStudent number :  11\n",
      "\tStudent Name :  Arti\n",
      "\tStudent Branch :  DBDA\n",
      "\tStudent University :  CDAC\n"
     ]
    }
   ],
   "source": [
    "Student_Number=int(input(\"Please enter Student number : \"))  \n",
    "Name=input(\"Please enter the Name : \")          \n",
    "Branch=input(\"Please enter the Branch : \")      \n",
    "University=input(\"Please enter the University : \") \n",
    "print(\"Entered Details :\\n\")\n",
    "print(\"\\tStudent number : \",Student_Number)\n",
    "print(\"\\tStudent Name : \",Name)\n",
    "print(\"\\tStudent Branch : \",Branch)\n",
    "print(\"\\tStudent University : \",University)"
   ]
  },
  {
   "cell_type": "markdown",
   "id": "29a4d585-a618-4a42-9a3d-b477118b3725",
   "metadata": {},
   "source": [
    "Assignment Question 4. Create a module consisting of 2 functions \n",
    "\"area_Rectangle\", \"area_Square\". Import the module and \n",
    "perform the following operations:\n",
    "1. Calculate the area of Square only by importing only one method.\n",
    "2. Calculate the area of Rectangle only by importing only one method.\n",
    "3. Calculate the area of Square and Rectangle by importing complete module."
   ]
  },
  {
   "cell_type": "code",
   "execution_count": 8,
   "id": "f3e2b77b-d8a5-4dea-9c22-f44e8031c906",
   "metadata": {
    "tags": []
   },
   "outputs": [
    {
     "name": "stdout",
     "output_type": "stream",
     "text": [
      "Please enter the length :  22\n",
      "Please enter the bredth :  33\n"
     ]
    },
    {
     "name": "stdout",
     "output_type": "stream",
     "text": [
      "Area of rectriangle :  726.0\n"
     ]
    },
    {
     "name": "stdout",
     "output_type": "stream",
     "text": [
      "Please enter the length of square side :  40\n"
     ]
    },
    {
     "name": "stdout",
     "output_type": "stream",
     "text": [
      "Area of Square :  1600.0\n"
     ]
    }
   ],
   "source": [
    "# In AreaSqRect.py\n",
    "def area_Rectangle():\n",
    "    l=float(input(\"Please enter the length : \"))\n",
    "    b=float(input(\"Please enter the bredth : \"))\n",
    "    area=l*b\n",
    "    return area\n",
    "def area_Square():\n",
    "    s=float(input(\"Please enter the length of square side : \"))\n",
    "    area=s*s\n",
    "    return area\n",
    "# In AreaSqRectMain.py\n",
    "def SqRectArea():\n",
    "    a1=area_Rectangle()\n",
    "    print(\"Area of rectriangle : \",a1)\n",
    "    a2=area_Square()\n",
    "    print(\"Area of Square : \",a2)\n",
    "SqRectArea()\n"
   ]
  },
  {
   "cell_type": "markdown",
   "id": "8c44ccfb-9234-4f7e-818c-4a2ccb1b9351",
   "metadata": {},
   "source": [
    "Assignment Question 5 : Write a program to demonstrate if, elif,else by checking largest of three numbers."
   ]
  },
  {
   "cell_type": "code",
   "execution_count": 25,
   "id": "aa534d5f-0d62-4b38-bf95-c49444f67ec4",
   "metadata": {},
   "outputs": [
    {
     "name": "stdout",
     "output_type": "stream",
     "text": [
      "Enter First Number 10\n",
      "Enter Second Number 45\n",
      "Enter third Number 60\n",
      "Largest number is :  60\n"
     ]
    }
   ],
   "source": [
    "num1=input(\"Enter First Number\")\n",
    "num2=input(\"Enter Second Number\")\n",
    "num3=input(\"Enter third Number\")\n",
    "if(num1>num2 and num1>num3):\n",
    "    print(\"Largest number is : \",num1)\n",
    "elif(num2>num1 and num2>num3):\n",
    "    print(\"Largest number is : \",num2)\n",
    "else:\n",
    "    print(\"Largest number is : \",num3)"
   ]
  },
  {
   "cell_type": "code",
   "execution_count": null,
   "id": "64046539-b4a9-4e70-89a7-152b9de594e5",
   "metadata": {},
   "outputs": [],
   "source": [
    "Assignment Question 6. Program to check whether a number is perfect or not"
   ]
  },
  {
   "cell_type": "code",
   "execution_count": 21,
   "id": "70b965e0-fa5e-4505-b438-6bdb0251d7c1",
   "metadata": {
    "tags": []
   },
   "outputs": [
    {
     "name": "stdout",
     "output_type": "stream",
     "text": [
      "22  : is not a perfect number\n"
     ]
    }
   ],
   "source": [
    "n=22\n",
    "s=0\n",
    "for i in range(1,n+1):\n",
    "    if(n%i==0):\n",
    "        s=s+i\n",
    "if(s==(n*2)):\n",
    "    print(n,\" : is a perfect number\")\n",
    "else:\n",
    "    print(n,\" : is not a perfect number\")"
   ]
  },
  {
   "cell_type": "markdown",
   "id": "03098757-575b-4b51-80e5-38907028d60e",
   "metadata": {},
   "source": [
    "Assignment Question 7 Read a multi word string and print them in alphabetical order"
   ]
  },
  {
   "cell_type": "code",
   "execution_count": 33,
   "id": "640edc4c-afac-4239-9ec8-e5eed3d394ed",
   "metadata": {},
   "outputs": [
    {
     "name": "stdout",
     "output_type": "stream",
     "text": [
      "Enter a message hello how are you\n",
      "['hello', 'how', 'are', 'you']\n",
      "are\n",
      "hello\n",
      "how\n",
      "you\n"
     ]
    }
   ],
   "source": [
    "message=input(\"Enter a message\")\n",
    "messages=message.split()\n",
    "print(messages)\n",
    "messages.sort()\n",
    "for x in messages:\n",
    "    print(x)"
   ]
  },
  {
   "cell_type": "markdown",
   "id": "7816039f-925e-42c7-99ad-250012b6ef60",
   "metadata": {},
   "source": [
    "Assignment question 8. Consider the following dictionary:\n",
    "{ \"i10\":\"Blue\", \"Kushaq\": \"Red\", \"i20\": White\"}\n",
    "1. How many cars are there in the dictionary\n",
    "2. Remove the car i10 from the dictionary\n",
    "3. Change the value of Kushaq to Black"
   ]
  },
  {
   "cell_type": "code",
   "execution_count": 23,
   "id": "05021ddd-d1d5-459e-a497-e19041b48751",
   "metadata": {
    "tags": []
   },
   "outputs": [
    {
     "name": "stdout",
     "output_type": "stream",
     "text": [
      "Dictionary items :  {'i10': 'Blue', 'Kushaq': 'Red', 'i20': 'White'}\n",
      "Length of dictinary items :  3\n",
      "After removing \"i10\" car :  {'Kushaq': 'Red', 'i20': 'White'}\n",
      "After updating color of \"Kushaq\" :  {'Kushaq': 'Black', 'i20': 'White'}\n"
     ]
    }
   ],
   "source": [
    "car={\"i10\":\"Blue\", \"Kushaq\": \"Red\", \"i20\": \"White\"}\n",
    "print(\"Dictionary items : \",car)\n",
    "print(\"Length of dictinary items : \",len(car))\n",
    "car.pop(\"i10\")\n",
    "print(\"After removing \\\"i10\\\" car : \",car)\n",
    "car[\"Kushaq\"]=\"Black\"\n",
    "print(\"After updating color of \\\"Kushaq\\\" : \",car)"
   ]
  },
  {
   "cell_type": "markdown",
   "id": "c5238462-19d8-46d7-bf96-3687c801ca47",
   "metadata": {},
   "source": [
    "Question 9. Write a program to sort elements of a tuple"
   ]
  },
  {
   "cell_type": "code",
   "execution_count": 25,
   "id": "1667ebbc-7d33-4a0d-94c1-a313907b18e6",
   "metadata": {
    "tags": []
   },
   "outputs": [
    {
     "name": "stdout",
     "output_type": "stream",
     "text": [
      "['Auto', 'Bus', 'Car', 'Excavator', 'Truck']\n"
     ]
    }
   ],
   "source": [
    "VehicleTuple=(\"Car\",\"Bus\",\"Auto\",\"Truck\",\"Excavator\")\n",
    "sortedVehicles=sorted(VehicleTuple)\n",
    "print(sortedVehicles)"
   ]
  },
  {
   "cell_type": "code",
   "execution_count": null,
   "id": "1eb0f232-ce1f-4a95-92bc-fe8451b1ca55",
   "metadata": {},
   "outputs": [],
   "source": [
    "Question 10. Implement contact book using dictionaries name, address, \n",
    "number, locality and city by taking input from user"
   ]
  },
  {
   "cell_type": "code",
   "execution_count": 27,
   "id": "047a83dc-9a73-4ed7-bd63-52db08fce7b4",
   "metadata": {
    "tags": []
   },
   "outputs": [
    {
     "name": "stdout",
     "output_type": "stream",
     "text": [
      " Arti\n",
      " blr\n",
      " 11\n",
      " cdac\n",
      " blr\n"
     ]
    },
    {
     "data": {
      "text/plain": [
       "{'name': 'Arti',\n",
       " 'address': 'blr',\n",
       " 'number': '11',\n",
       " 'locality': 'cdac',\n",
       " 'city': 'blr'}"
      ]
     },
     "execution_count": 27,
     "metadata": {},
     "output_type": "execute_result"
    }
   ],
   "source": [
    "book=dict({})\n",
    "book.update({\"name\":input()})\n",
    "book.update({\"address\":input()})\n",
    "book.update({\"number\":input()})\n",
    "book.update({\"locality\":input()})\n",
    "book.update({\"city\":input()})\n",
    "book"
   ]
  },
  {
   "cell_type": "markdown",
   "id": "bdd09e86-d6bb-4237-beb4-6a6b93461e55",
   "metadata": {},
   "source": [
    "Assignment Question 11. Write a python program to create dictionary, list, tuple with the \n",
    "following details: [id, name, job role, joining date]\n",
    "Perform the following opeartions:\n",
    "1. Add 5 employee to each\n",
    "2. Check senior most employee\n",
    "3. Add new employee to the record\n",
    "4. Sort the employee by name\n",
    "5. Remove an employee from the record\n",
    "6. Use function that takes 3 parameter and display prefix, fname and\n",
    "lname of the employee\n",
    "7. Print the employee with salary above 80,000"
   ]
  },
  {
   "cell_type": "code",
   "execution_count": 55,
   "id": "d1763f4b-39d1-4cd0-8c0b-8d1e8b6a9f3c",
   "metadata": {
    "tags": []
   },
   "outputs": [
    {
     "name": "stdout",
     "output_type": "stream",
     "text": [
      "\n",
      "Senior Most Employee:\n",
      "ID: 5\n",
      "Name: Employee 5\n",
      "Job Role: Job Role 5\n",
      "Joining Date: Joining Date 5\n",
      "\n",
      "Employees Sorted by Name:\n",
      "ID: 1\n",
      "Name: Employee 1\n",
      "Job Role: Job Role 1\n",
      "Joining Date: Joining Date 1\n",
      "ID: 2\n",
      "Name: Employee 2\n",
      "Job Role: Job Role 2\n",
      "Joining Date: Joining Date 2\n",
      "ID: 3\n",
      "Name: Employee 3\n",
      "Job Role: Job Role 3\n",
      "Joining Date: Joining Date 3\n",
      "ID: 4\n",
      "Name: Employee 4\n",
      "Job Role: Job Role 4\n",
      "Joining Date: Joining Date 4\n",
      "ID: 5\n",
      "Name: Employee 5\n",
      "Job Role: Job Role 5\n",
      "Joining Date: Joining Date 5\n",
      "ID: 6\n",
      "Name: New Employee\n",
      "Job Role: New Job Role\n",
      "Joining Date: New Joining Date\n",
      "Prefix: Mr.\n",
      "First Name: John\n",
      "Last Name: Doe\n",
      "\n",
      "Employees with Salary above 80,000:\n",
      "ID: 6\n",
      "Name: New Employee\n",
      "Job Role: New Job Role\n",
      "Joining Date: New Joining Date\n",
      "Salary: 96000\n"
     ]
    }
   ],
   "source": [
    "def display_employee_details(employee):\n",
    "    print(\"ID:\", employee['id'])\n",
    "    print(\"Name:\", employee['name'])\n",
    "    print(\"Job Role:\", employee['job_role'])\n",
    "    print(\"Joining Date:\", employee['joining_date'])\n",
    "    if 'salary' in employee:  # Check if salary information is available\n",
    "        print(\"Salary:\", employee['salary'])\n",
    "\n",
    "def calculate_salary(employee):\n",
    "    # Example logic to calculate salary based on employee name length\n",
    "    return len(employee['name']) * 8000\n",
    "\n",
    "def display_prefix_fname_lname(prefix, fname, lname):\n",
    "    print(\"Prefix:\", prefix)\n",
    "    print(\"First Name:\", fname)\n",
    "    print(\"Last Name:\", lname)\n",
    "\n",
    "# 1. Create dictionary, list, and tuple with employee details\n",
    "employee_dict = {}\n",
    "employee_list = []\n",
    "employee_tuple = ()\n",
    "\n",
    "# 2. Add 5 employees to each data structure\n",
    "for i in range(1, 6):\n",
    "    employee_id = i\n",
    "    name = f\"Employee {i}\"\n",
    "    job_role = f\"Job Role {i}\"\n",
    "    joining_date = f\"Joining Date {i}\"\n",
    "    employee = {'id': employee_id, 'name': name, 'job_role': job_role, 'joining_date': joining_date}\n",
    "    employee_dict[employee_id] = employee\n",
    "    employee_list.append(employee)\n",
    "    employee_tuple += (employee,)\n",
    "\n",
    "# 3. Check senior most employee\n",
    "def get_joining_date(employee):\n",
    "    return employee['joining_date']\n",
    "\n",
    "senior_employee = max(employee_list, key=get_joining_date)\n",
    "print(\"\\nSenior Most Employee:\")\n",
    "display_employee_details(senior_employee)\n",
    "\n",
    "# 4. Add new employee to the record\n",
    "new_employee = {'id': 6, 'name': 'New Employee', 'job_role': 'New Job Role', 'joining_date': 'New Joining Date'}\n",
    "employee_dict[6] = new_employee\n",
    "employee_list.append(new_employee)\n",
    "employee_tuple += (new_employee,)\n",
    "\n",
    "# 5. Sort the employees by name\n",
    "def get_employee_name(employee):\n",
    "    return employee['name']\n",
    "\n",
    "sorted_employee_list = sorted(employee_list, key=get_employee_name)\n",
    "print(\"\\nEmployees Sorted by Name:\")\n",
    "for employee in sorted_employee_list:\n",
    "    display_employee_details(employee)\n",
    "\n",
    "# 6. Remove an employee from the record\n",
    "employee_to_remove = employee_list[2]  # Example: removing the third employee\n",
    "employee_list.remove(employee_to_remove)\n",
    "del employee_dict[employee_to_remove['id']]\n",
    "employee_tuple = tuple(emp for emp in employee_tuple if emp != employee_to_remove)\n",
    "\n",
    "# 7. Function to display prefix, first name, and last name\n",
    "display_prefix_fname_lname(\"Mr.\", \"John\", \"Doe\")\n",
    "\n",
    "Print employees with salary above 80,000 (assuming salary is not provided in the employee details)\n",
    "print(\"\\nEmployees with Salary above 80,000:\")\n",
    "for employee in employee_list:\n",
    "    salary = calculate_salary(employee)\n",
    "    if salary > 80000:\n",
    "        employee['salary'] = salary  # Add salary information to the employee\n",
    "        display_employee_details(employee)\n"
   ]
  },
  {
   "cell_type": "markdown",
   "id": "5d73e77c-7be5-4ed3-ab70-3f025235db9e",
   "metadata": {},
   "source": [
    "Assignment Question 12. Program to demonstrate fibonacci series using recursion"
   ]
  },
  {
   "cell_type": "code",
   "execution_count": 43,
   "id": "a8d48d42-e95b-47f2-9f71-bca1ea7c25ae",
   "metadata": {
    "tags": []
   },
   "outputs": [
    {
     "name": "stdout",
     "output_type": "stream",
     "text": [
      "0\n",
      "1\n",
      "1\n",
      "2\n",
      "3\n",
      "5\n",
      "8\n",
      "13\n",
      "21\n",
      "34\n"
     ]
    }
   ],
   "source": [
    "def f1(n2):\n",
    "    if n2<=1:\n",
    "        return n2\n",
    "    else:\n",
    "        return f1(n2-1)+f1(n2-2)\n",
    "def f2(n1):\n",
    "    for i in range(n1):\n",
    "        print(f1(i))\n",
    "\n",
    "r=10\n",
    "f2(r)"
   ]
  }
 ],
 "metadata": {
  "kernelspec": {
   "display_name": "Python 3 (ipykernel)",
   "language": "python",
   "name": "python3"
  },
  "language_info": {
   "codemirror_mode": {
    "name": "ipython",
    "version": 3
   },
   "file_extension": ".py",
   "mimetype": "text/x-python",
   "name": "python",
   "nbconvert_exporter": "python",
   "pygments_lexer": "ipython3",
   "version": "3.11.7"
  }
 },
 "nbformat": 4,
 "nbformat_minor": 5
}
